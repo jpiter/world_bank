{
 "cells": [
  {
   "cell_type": "code",
   "execution_count": 10,
   "metadata": {
    "collapsed": false
   },
   "outputs": [],
   "source": [
    "import requests\n",
    "from bs4 import BeautifulSoup\n",
    "\n",
    "from collections import defaultdict\n",
    "import pandas as pd\n",
    "import numpy as np\n",
    "import csv\n",
    "import re\n",
    "from fuzzywuzzy import fuzz"
   ]
  },
  {
   "cell_type": "markdown",
   "metadata": {},
   "source": [
    "### Scrape current list of debarred companies and firms."
   ]
  },
  {
   "cell_type": "code",
   "execution_count": 11,
   "metadata": {
    "collapsed": false
   },
   "outputs": [],
   "source": [
    "#scrape a table of debarred companies\n",
    "response = requests.get('http://web.worldbank.org/external/default/main?theSitePK=84266&contentMDK=64069844&menuPK=116730&pagePK=64148989&piPK=64148984')\n",
    "\n",
    "soup = BeautifulSoup(response.text, 'lxml')\n",
    "\n",
    "tables = soup.find(class_='TableHeadBlue').find_next('table')\n",
    "\n",
    "rows = tables.find_all('tr')\n",
    "\n",
    "# Create six variables to score the scraped data in\n",
    "name = []\n",
    "address = []\n",
    "country = []\n",
    "from_date = []\n",
    "to_date = []\n",
    "grounds = []\n",
    "\n",
    "\n",
    "# Find all the <tr> tag pairs, skip the first one, then for each.\n",
    "for i in range(24, len(rows)):\n",
    "\n",
    "    # Create a variable of all the <td> tag pairs in each <tr> tag pair,\n",
    "    col = rows[i].find_all('td')\n",
    "\n",
    "    # Create a variable of the string inside 1st <td> tag pair,\n",
    "    column_1 = col[0].string.strip()\n",
    "    # and append it to name variable\n",
    "    name.append(column_1)\n",
    "    \n",
    "    # Create a variable of the string inside 2nd <td> tag pair\n",
    "    try:\n",
    "        column_2 = col[1].text.strip().replace('\\xa0','').replace('\\n','')\n",
    "    except:\n",
    "        column_2 = 'NA'\n",
    "    # and append it to address variable\n",
    "    address.append(column_2)\n",
    "    \n",
    "    # Create a variable of the string inside 3rd <td> tag pair\n",
    "    try:\n",
    "        column_3 = col[2].string.strip()\n",
    "    except:\n",
    "        column_3 = 'NA'\n",
    "    # append it to country variable\n",
    "    country.append(column_3)\n",
    "\n",
    "     # Create a variable of the string inside 4th <td> tag pair\n",
    "    try:\n",
    "        column_4 = col[3].string.strip()\n",
    "    except:\n",
    "        column_4 = 'NA'\n",
    "    # and append it to from_date variable\n",
    "    from_date.append(column_4)\n",
    "\n",
    "    # Create a variable of the string inside 5th <td> tag pair,\n",
    "    try:\n",
    "        column_5 = col[4].string.strip()\n",
    "    except:\n",
    "        column_5 = 'NA'\n",
    "    # and append it to to_date variable\n",
    "    to_date.append(column_5)\n",
    "    \n",
    "    # Create a variable of the string inside 6th <td> tag pair\n",
    "    try:\n",
    "        column_6 = col[5].string.strip()\n",
    "    except:\n",
    "        column_6 = 'NA'\n",
    "    # and append it to grounds variable\n",
    "    grounds.append(column_6)\n",
    "\n",
    "# Create a variable of the value of the columns\n",
    "columns = {'name': name, 'address': address, 'country': country, 'from_date': from_date, 'to_date': to_date, 'grounds':grounds}\n",
    "\n",
    "# Create a dataframe from the columns variable\n",
    "debarred_now = pd.DataFrame(columns)"
   ]
  },
  {
   "cell_type": "code",
   "execution_count": 12,
   "metadata": {
    "collapsed": false
   },
   "outputs": [],
   "source": [
    "debarred_now.to_csv('debarred_table_now.csv')"
   ]
  },
  {
   "cell_type": "code",
   "execution_count": 13,
   "metadata": {
    "collapsed": true
   },
   "outputs": [],
   "source": [
    "#debarred_now = pd.read_csv('debarred_table_now.csv')"
   ]
  },
  {
   "cell_type": "markdown",
   "metadata": {},
   "source": [
    "### Scrape names of companies and individuals that were debarred from 2005 to 2015. Use Waybackmachine snapshots of debarred list."
   ]
  },
  {
   "cell_type": "code",
   "execution_count": 14,
   "metadata": {
    "collapsed": true
   },
   "outputs": [],
   "source": [
    "url_base = 'https://web.archive.org/web/'\n",
    "wb_url = '/http://web.worldbank.org/external/default/main?contentMDK=64069844&menuPK=116730&pagePK=64148989&piPK=64148984&querycontentMDK=64069700&theSitePK=84266'\n",
    "timestamps =['20100807105907',\n",
    "'20110813221617',\n",
    "'20120814023542',\n",
    "'20130823191515',\n",
    "'20140822044948',\n",
    "'20150813195052',\n",
    "'20090806010013',\n",
    "'20071007091915',\n",
    "'20051211164403']"
   ]
  },
  {
   "cell_type": "code",
   "execution_count": 15,
   "metadata": {
    "collapsed": false
   },
   "outputs": [
    {
     "name": "stdout",
     "output_type": "stream",
     "text": [
      "20100807105907\n",
      "20110813221617\n",
      "20120814023542\n",
      "20130823191515\n",
      "20140822044948\n",
      "20150813195052\n",
      "20090806010013\n",
      "20071007091915\n",
      "20051211164403\n"
     ]
    }
   ],
   "source": [
    "name = []\n",
    "address = []\n",
    "country = []\n",
    "from_date = []\n",
    "to_date = []\n",
    "grounds = []\n",
    "\n",
    "for time in timestamps:\n",
    "    \n",
    "    print(time)\n",
    "    url = url_base + time + wb_url\n",
    "\n",
    "    #scrape a table of debarred companies\n",
    "    response = requests.get(url)\n",
    "\n",
    "    soup = BeautifulSoup(response.text, 'lxml')\n",
    "\n",
    "    tables = soup.find(class_='TableHeadBlue').find_next('table')\n",
    "\n",
    "    rows = tables.find_all('tr')\n",
    "\n",
    "    # Find all the <tr> tag pairs, skip the first one, then for each.\n",
    "    for i in range(4, len(rows)):\n",
    "\n",
    "        # Create a variable of all the <td> tag pairs in each <tr> tag pair,\n",
    "        col = rows[i].find_all('td')\n",
    "\n",
    "        # Create a variable of the string inside 1st <td> tag pair,\n",
    "        column_1 = col[0].text.strip()\n",
    "        # and append it to name variable\n",
    "        name.append(column_1)\n",
    "\n",
    "        # Create a variable of the string inside 2nd <td> tag pair,\n",
    "        try:\n",
    "            column_2 = col[1].text.strip().replace('\\xa0','').replace('\\n','')\n",
    "        except:\n",
    "            column_2 = 'NA'\n",
    "        # and append it to address variable\n",
    "        address.append(column_2)\n",
    "\n",
    "        # Create a variable of the string inside 3rd <td> tag pair\n",
    "        try:\n",
    "            column_3 = col[2].text.strip()\n",
    "        except:\n",
    "            column_3 = 'NA'\n",
    "        # and append it to country variable\n",
    "        country.append(column_3)\n",
    "\n",
    "        # Create a variable of the string inside 4th <td> tag pair\n",
    "        try:\n",
    "            column_4 = col[3].text.strip()\n",
    "        except:\n",
    "            column_4 = 'NA'\n",
    "        # and append it to from_date variable\n",
    "        from_date.append(column_4)\n",
    "\n",
    "        # Create a variable of the string inside 5th <td> tag pair,\n",
    "        try:\n",
    "            column_5 = col[4].text.strip()\n",
    "        except:\n",
    "            column_5 = 'NA'\n",
    "        # and append it to to_date variable\n",
    "        to_date.append(column_5)\n",
    "\n",
    "        # Create a variable of the string inside 6th <td> tag pair,\n",
    "        try:\n",
    "            column_6 = col[5].text.strip()\n",
    "        except:\n",
    "            column_6 = 'NA'\n",
    "        # and append it to grounds variable\n",
    "        grounds.append(column_6)\n",
    "\n",
    "# Create a variable of the value of the columns\n",
    "columns = {'name': name, 'address': address, 'country': country, 'from_date': from_date, 'to_date': to_date, 'grounds':grounds}\n"
   ]
  },
  {
   "cell_type": "code",
   "execution_count": 16,
   "metadata": {
    "collapsed": true
   },
   "outputs": [],
   "source": [
    "# Create a dataframe from the columns variable\n",
    "debarred_archive = pd.DataFrame(columns)\n",
    "debarred_archive.drop_duplicates('name', inplace = True)\n",
    "debarred_archive.to_csv('debarred_table_archive.csv')"
   ]
  },
  {
   "cell_type": "code",
   "execution_count": 23,
   "metadata": {
    "collapsed": false
   },
   "outputs": [
    {
     "data": {
      "text/plain": [
       "(1117, 6)"
      ]
     },
     "execution_count": 23,
     "metadata": {},
     "output_type": "execute_result"
    }
   ],
   "source": [
    "debarred_archive.shape"
   ]
  },
  {
   "cell_type": "markdown",
   "metadata": {},
   "source": [
    "### You may merge  old and current debarred names and drop duplicates if any."
   ]
  },
  {
   "cell_type": "code",
   "execution_count": 24,
   "metadata": {
    "collapsed": false
   },
   "outputs": [],
   "source": [
    "debarred_all = pd.concat([debarred_now, debarred_archive], ignore_index = True)\n",
    "debarred_all.drop_duplicates('name', inplace = True)\n",
    "debarred_all.to_csv('debarred_table_all.csv')"
   ]
  },
  {
   "cell_type": "code",
   "execution_count": 25,
   "metadata": {
    "collapsed": false
   },
   "outputs": [
    {
     "data": {
      "text/plain": [
       "(1283, 6)"
      ]
     },
     "execution_count": 25,
     "metadata": {},
     "output_type": "execute_result"
    }
   ],
   "source": [
    "debarred_all.shape"
   ]
  },
  {
   "cell_type": "code",
   "execution_count": null,
   "metadata": {
    "collapsed": true
   },
   "outputs": [],
   "source": []
  }
 ],
 "metadata": {
  "kernelspec": {
   "display_name": "Python 3",
   "language": "python",
   "name": "python3"
  },
  "language_info": {
   "codemirror_mode": {
    "name": "ipython",
    "version": 3
   },
   "file_extension": ".py",
   "mimetype": "text/x-python",
   "name": "python",
   "nbconvert_exporter": "python",
   "pygments_lexer": "ipython3",
   "version": "3.5.1"
  }
 },
 "nbformat": 4,
 "nbformat_minor": 0
}
