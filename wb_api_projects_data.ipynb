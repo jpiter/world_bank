{
 "cells": [
  {
   "cell_type": "code",
   "execution_count": 2,
   "metadata": {
    "collapsed": false
   },
   "outputs": [],
   "source": [
    "import requests\n",
    "from bs4 import BeautifulSoup\n",
    "\n",
    "from collections import defaultdict\n",
    "import pandas as pd\n",
    "import numpy as np\n",
    "import csv\n",
    "import re\n",
    "from fuzzywuzzy import fuzz\n",
    "\n",
    "import matplotlib.pyplot as plt\n",
    "import seaborn as sns\n",
    "%matplotlib inline"
   ]
  },
  {
   "cell_type": "markdown",
   "metadata": {},
   "source": [
    "### Download information on contracts"
   ]
  },
  {
   "cell_type": "markdown",
   "metadata": {},
   "source": [
    "For major contracts, use WB API"
   ]
  },
  {
   "cell_type": "code",
   "execution_count": 10,
   "metadata": {
    "collapsed": false
   },
   "outputs": [],
   "source": [
    "query = (\"https://finances.worldbank.org/resource/45tv-a6qy.json\")\n",
    "raw_data = pd.read_json(query)\n",
    "raw_data.to_csv('Major_Contract_Awards.csv')\n",
    "major_contracts = pd.read_csv('major_contracts.csv')"
   ]
  },
  {
   "cell_type": "markdown",
   "metadata": {},
   "source": [
    "For all contracts download csv:\n",
    "\n",
    "url = http://www.worldbank.org/en/projects-operations/products-and-services/brief/summary-and-detailed-borrower-procurement-reports"
   ]
  },
  {
   "cell_type": "code",
   "execution_count": 4,
   "metadata": {
    "collapsed": true
   },
   "outputs": [],
   "source": [
    "awards99_01 = pd.read_excel('Bankwide_Awards_(FY99-01).xls', sheetname = 'Proc Contract Detail - Supplier', skiprows = 50)\n",
    "awards02_05 = pd.read_excel('Bankwide_Awards_(FY02-05).xls', sheetname = 'Proc Contract Detail - Supplier', skiprows = 50)\n",
    "awards06_08 = pd.read_excel('Bankwide_Awards_(FY06-08).xls', sheetname = 'Proc Contract Detail - Supplier', skiprows = 50)\n",
    "awards09_11 = pd.read_excel('Bankwide_Awards_(FY09-11).xls', sheetname = 'Proc Contract Detail - Supplier', skiprows = 50)\n",
    "awards12_15 = pd.read_excel('Bankwide_Awards_(FY12-15).xls', sheetname = 'Proc Contract Detail - Supplier', skiprows = 50)"
   ]
  },
  {
   "cell_type": "code",
   "execution_count": 5,
   "metadata": {
    "collapsed": false
   },
   "outputs": [],
   "source": [
    "awards = pd.concat([awards99_01,awards02_05, awards06_08, awards09_11, awards12_15],ignore_index=True)\n",
    "awards.to_csv('contracts_all.csv')"
   ]
  },
  {
   "cell_type": "markdown",
   "metadata": {},
   "source": [
    "### Use WB API to pull information on IBRD loans, IRA loans and credits, and Grants."
   ]
  },
  {
   "cell_type": "code",
   "execution_count": 15,
   "metadata": {
    "collapsed": true
   },
   "outputs": [],
   "source": [
    "query = (\"https://finances.worldbank.org/resource/8iaw-pcc6.json\")\n",
    "ibrd_statement_of_loans = pd.read_json(query)\n",
    "ibrd_statement_of_loans.to_csv('ibrd_loans.csv')"
   ]
  },
  {
   "cell_type": "code",
   "execution_count": 22,
   "metadata": {
    "collapsed": false
   },
   "outputs": [
    {
     "data": {
      "text/plain": [
       "(8446, 33)"
      ]
     },
     "execution_count": 22,
     "metadata": {},
     "output_type": "execute_result"
    }
   ],
   "source": [
    "ibrd_statement_of_loans.shape"
   ]
  },
  {
   "cell_type": "code",
   "execution_count": 20,
   "metadata": {
    "collapsed": false
   },
   "outputs": [],
   "source": [
    "#https://dev.socrata.com/foundry/finances.worldbank.org/uai2-57m4\n",
    "query = (\"https://finances.worldbank.org/resource/uai2-57m4.json\")\n",
    "ida_loans = pd.read_json(query)\n",
    "ida_loans.to_csv('ida_loans.csv')"
   ]
  },
  {
   "cell_type": "code",
   "execution_count": 21,
   "metadata": {
    "collapsed": false
   },
   "outputs": [
    {
     "data": {
      "text/plain": [
       "(259250, 30)"
      ]
     },
     "execution_count": 21,
     "metadata": {},
     "output_type": "execute_result"
    }
   ],
   "source": [
    "ida_loans.shape"
   ]
  },
  {
   "cell_type": "code",
   "execution_count": 24,
   "metadata": {
    "collapsed": true
   },
   "outputs": [],
   "source": [
    "query = (\"https://finances.worldbank.org/resource/fx4u-igkq.json\")\n",
    "grants = pd.read_json(query)\n",
    "grants.to_csv('trust_funds.csv')"
   ]
  },
  {
   "cell_type": "code",
   "execution_count": 25,
   "metadata": {
    "collapsed": false
   },
   "outputs": [
    {
     "data": {
      "text/plain": [
       "(9967, 16)"
      ]
     },
     "execution_count": 25,
     "metadata": {},
     "output_type": "execute_result"
    }
   ],
   "source": [
    "grants.shape"
   ]
  },
  {
   "cell_type": "markdown",
   "metadata": {},
   "source": [
    "### Download post-complition project ratings.\n",
    "\n",
    "I did not end up using this data, but considered running classification problem to predict whether the project will be rated satisfactory or not.\n",
    "\n",
    "url: http://data.worldbank.org/data-catalog/IEG\n",
    "\n",
    "code book: https://ieg.worldbankgroup.org/Data/reports/ieg-wb-project-performance-ratings-codebook_092015.pdf"
   ]
  },
  {
   "cell_type": "code",
   "execution_count": null,
   "metadata": {
    "collapsed": true
   },
   "outputs": [],
   "source": [
    "ratings = pd.read_csv('wb_project_ratings.csv')"
   ]
  }
 ],
 "metadata": {
  "kernelspec": {
   "display_name": "Python 3",
   "language": "python",
   "name": "python3"
  },
  "language_info": {
   "codemirror_mode": {
    "name": "ipython",
    "version": 3
   },
   "file_extension": ".py",
   "mimetype": "text/x-python",
   "name": "python",
   "nbconvert_exporter": "python",
   "pygments_lexer": "ipython3",
   "version": "3.5.1"
  }
 },
 "nbformat": 4,
 "nbformat_minor": 0
}
