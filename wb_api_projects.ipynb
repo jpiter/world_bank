{
 "cells": [
  {
   "cell_type": "code",
   "execution_count": null,
   "metadata": {
    "collapsed": false
   },
   "outputs": [],
   "source": [
    "import requests\n",
    "from bs4 import BeautifulSoup\n",
    "\n",
    "from collections import defaultdict\n",
    "import pandas as pd\n",
    "import numpy as np\n",
    "import csv\n",
    "import re\n",
    "from fuzzywuzzy import fuzz\n",
    "\n",
    "import matplotlib.pyplot as plt\n",
    "import seaborn as sns\n",
    "%matplotlib inline"
   ]
  },
  {
   "cell_type": "markdown",
   "metadata": {},
   "source": [
    "### Use WB API to get a list of available projects\n",
    "\n",
    "World Bank Projects & Operations provides access to basic information on all of the World Bank's lending projects from 1947 to the present. The dataset includes basic information such as the project title, task manager, country, project id, sector, themes, commitment amount, product line, and financing. It also provides links to publicly disclosed online documents.\n",
    "\n",
    "url: http://search.worldbank.org/api/v2/projects\n",
    "\n",
    "Note1: There are about 17K different projects and the code takes some time to execute\n",
    "\n",
    "Note2: projects - is a list of dictionaries, since each project may come with different fields"
   ]
  },
  {
   "cell_type": "code",
   "execution_count": null,
   "metadata": {
    "collapsed": false
   },
   "outputs": [],
   "source": [
    "#Use WB API to obtain a list of WB Projects\n",
    "url_base = 'http://search.worldbank.org/api/v2/projects?format=xml&fct=docty_exact,regionname_exact,countryname_exact,lendinginstr_exact,borrower_exact,supplementprojectflg_exact,impagency_exact,status_exact,mjsector_exact,sector_exact,goal_exact,theme_exact,boardapprovaldate_exact,countryshortname_exact,mjsectorcode_exact,board_approval_year_exact,fiscalyear,projectfinancialtype_exact,lang_exact,mjtheme_exact,sector_namecode_exact,mjsector_namecode_exact,theme_namecode_exact,mjtheme_namecode_exact,country_namecode_exact,countryname_mdk_exact,goalname_mdk_exact,lendinginstr_mdk_exact,lendinginstrtype_mdk_exact,mjsectorname_mdk_exact,sectorname_mdk_exact,themename_mdk_exact,mjthemename_mdk_exact,mtthemename_mdk_exact,project_name_mdk_exact,prodlinetext_mdk_exact,envassesmentcategorycode,combined_practice_code,combined_practice_name,ccsa_practice_code_exact,ccsa_practice_name_exact,teamleadname_exact,prodline_exact&source=IBRD&rows=500&os='\n",
    "\n",
    "projects = []\n",
    "\n",
    "for i in range(1,18000,500):\n",
    "    print(i)\n",
    "    url = url_base + str(i) + '&kw=N'\n",
    "    response = requests.get(url)\n",
    "    page = response.text\n",
    "    soup = BeautifulSoup(page,'lxml')\n",
    "    \n",
    "    for project in soup.find_all('project'):\n",
    "        rec = defaultdict(list)\n",
    "        for tag in project.children:\n",
    "            if tag!= '\\n':\n",
    "                rec[tag.name] = str(tag.text)\n",
    "        projects.append(rec)\n"
   ]
  },
  {
   "cell_type": "markdown",
   "metadata": {},
   "source": [
    "#### Create a list of all possible fields for projects"
   ]
  },
  {
   "cell_type": "code",
   "execution_count": 5,
   "metadata": {
    "collapsed": false
   },
   "outputs": [],
   "source": [
    "keyes = []\n",
    "\n",
    "for p in projects:\n",
    "    for k in p.keys():\n",
    "        keyes.append(k)\n",
    "\n",
    "columns = set(keyes)"
   ]
  },
  {
   "cell_type": "markdown",
   "metadata": {},
   "source": [
    "#### Create a list of dictionaries with same/uniform fields across all projects"
   ]
  },
  {
   "cell_type": "code",
   "execution_count": 6,
   "metadata": {
    "collapsed": true
   },
   "outputs": [],
   "source": [
    "table = defaultdict(list)\n",
    "\n",
    "for project in projects:\n",
    "    for c in columns:\n",
    "        if c in project.keys():\n",
    "            table[c] += [project[c]]\n",
    "        else:\n",
    "            table[c] += [None]\n",
    "        "
   ]
  },
  {
   "cell_type": "markdown",
   "metadata": {},
   "source": [
    "#### Create a dataframe for projects avaialble"
   ]
  },
  {
   "cell_type": "code",
   "execution_count": 7,
   "metadata": {
    "collapsed": false
   },
   "outputs": [],
   "source": [
    "df = pd.DataFrame(table)\n",
    "df.to_csv('Projects_08_2016.csv')"
   ]
  },
  {
   "cell_type": "code",
   "execution_count": 445,
   "metadata": {
    "collapsed": false
   },
   "outputs": [
    {
     "name": "stdout",
     "output_type": "stream",
     "text": [
      "<class 'pandas.core.frame.DataFrame'>\n",
      "RangeIndex: 17125 entries, 0 to 17124\n",
      "Data columns (total 54 columns):\n",
      "agencyinfo                  79 non-null object\n",
      "approvalfy                  15861 non-null object\n",
      "board_approval_month        15861 non-null object\n",
      "boardapprovaldate           15861 non-null object\n",
      "borrower                    12116 non-null object\n",
      "ccsa_practice_code          3320 non-null object\n",
      "ccsa_practice_name          3320 non-null object\n",
      "closingdate                 14187 non-null object\n",
      "combined_practice_code      3320 non-null object\n",
      "combined_practice_name      3320 non-null object\n",
      "country_namecode            17125 non-null object\n",
      "countrycode                 17125 non-null object\n",
      "countryname                 17125 non-null object\n",
      "countryshortname            17125 non-null object\n",
      "docty                       15099 non-null object\n",
      "envassesmentcategorycode    11687 non-null object\n",
      "grantamt                    17125 non-null object\n",
      "ibrdcommamt                 17125 non-null object\n",
      "id                          17125 non-null object\n",
      "idacommamt                  17125 non-null object\n",
      "impagency                   11901 non-null object\n",
      "lendinginstr                16794 non-null object\n",
      "lendinginstrtype            16794 non-null object\n",
      "lendprojectcost             17053 non-null object\n",
      "linkinfo                    72 non-null object\n",
      "locations                   3469 non-null object\n",
      "majorsector_percent         16965 non-null object\n",
      "mjsector_namecode           16965 non-null object\n",
      "prodline                    17125 non-null object\n",
      "prodlinetext                17125 non-null object\n",
      "productlinetype             17125 non-null object\n",
      "project_abstract            12204 non-null object\n",
      "project_name                17125 non-null object\n",
      "projectdocs                 15099 non-null object\n",
      "projectfinancialtype        16839 non-null object\n",
      "projectinfo                 2457 non-null object\n",
      "projectstatusdisplay        17125 non-null object\n",
      "regionname                  17125 non-null object\n",
      "sector                      16965 non-null object\n",
      "sector1                     17125 non-null object\n",
      "sector2                     9047 non-null object\n",
      "sector3                     6071 non-null object\n",
      "sector4                     3969 non-null object\n",
      "sector5                     2455 non-null object\n",
      "sector_namecode             16965 non-null object\n",
      "sectorcode                  16965 non-null object\n",
      "source                      17125 non-null object\n",
      "status                      17125 non-null object\n",
      "supplementprojectflg        17080 non-null object\n",
      "teamleaderupi               12637 non-null object\n",
      "theme1                      17125 non-null object\n",
      "totalamt                    17125 non-null object\n",
      "totalcommamt                17125 non-null object\n",
      "url                         17125 non-null object\n",
      "dtypes: object(54)\n",
      "memory usage: 7.1+ MB\n"
     ]
    }
   ],
   "source": [
    "df.info()"
   ]
  },
  {
   "cell_type": "markdown",
   "metadata": {},
   "source": [
    "#### Run simple statistics for projects available"
   ]
  },
  {
   "cell_type": "code",
   "execution_count": 446,
   "metadata": {
    "collapsed": false
   },
   "outputs": [
    {
     "data": {
      "text/plain": [
       "Closed      13288\n",
       "Active       2625\n",
       "Dropped       832\n",
       "Pipeline      380\n",
       "Name: status, dtype: int64"
      ]
     },
     "execution_count": 446,
     "metadata": {},
     "output_type": "execute_result"
    }
   ],
   "source": [
    "#plt.hist(df.approvalfy.astype(int))\n",
    "df.status.value_counts()"
   ]
  },
  {
   "cell_type": "code",
   "execution_count": 356,
   "metadata": {
    "collapsed": false
   },
   "outputs": [
    {
     "data": {
      "text/plain": [
       "Republic of India                           745\n",
       "Republic of Indonesia                       552\n",
       "People's Republic of China                  545\n",
       "Federative Republic of Brazil               510\n",
       "Islamic Republic of Pakistan                384\n",
       "People's Republic of Bangladesh             350\n",
       "United Mexican States                       313\n",
       "Republic of the Philippines                 301\n",
       "Republic of Colombia                        268\n",
       "United Republic of Tanzania                 260\n",
       "Africa                                      257\n",
       "Republic of Kenya                           250\n",
       "Socialist Republic of Vietnam               246\n",
       "Republic of Ghana                           230\n",
       "Republic of Turkey                          224\n",
       "Kingdom of Morocco                          223\n",
       "Federal Republic of Nigeria                 220\n",
       "Republic of Yemen                           217\n",
       "Argentine Republic                          216\n",
       "Republic of Uganda                          211\n",
       "Federal Democratic Republic of Ethiopia     191\n",
       "Republic of Tunisia                         189\n",
       "Republic of Senegal                         184\n",
       "Republic of Peru                            180\n",
       "Arab Republic of Egypt                      177\n",
       "Kingdom of Thailand                         174\n",
       "Republic of Madagascar                      171\n",
       "Democratic Socialist Republic of Sri Lan    171\n",
       "Nepal                                       168\n",
       "Republic of Malawi                          159\n",
       "                                           ... \n",
       "South Eastern Europe and Balkans              8\n",
       "Republic of Austria                           7\n",
       "Republic of the Marshall Islands              6\n",
       "Commonwealth of The Bahamas                   6\n",
       "New Zealand                                   6\n",
       "Italian Republic                              5\n",
       "Republic of Iceland                           5\n",
       "St. Kitts and Nevis                           5\n",
       "Asia                                          4\n",
       "Kingdom of Norway                             4\n",
       "Southern Africa                               4\n",
       "Andean Countries                              4\n",
       "Federated States of Micronesia                3\n",
       "Commonwealth of Australia                     3\n",
       "Kingdom of Denmark                            2\n",
       "Multi-Regional                                2\n",
       "Kingdom of the Netherlands                    2\n",
       "Caucasus                                      2\n",
       "Aral Sea                                      2\n",
       "Mekong                                        2\n",
       "EU Accession Countries                        1\n",
       "American Samoa                                1\n",
       "Antigua and Barbuda                           1\n",
       "Red Sea and Gulf of Aden                      1\n",
       "Republic of Palau                             1\n",
       "Republic of Suriname                          1\n",
       "Republic of Malta                             1\n",
       "Kingdom of Belgium                            1\n",
       "Socialist People's Libyan Arab Jamahiriy      1\n",
       "Mercosur                                      1\n",
       "Name: countryname, dtype: int64"
      ]
     },
     "execution_count": 356,
     "metadata": {},
     "output_type": "execute_result"
    }
   ],
   "source": [
    "df.countrynam.value_counts()"
   ]
  },
  {
   "cell_type": "code",
   "execution_count": 359,
   "metadata": {
    "collapsed": false
   },
   "outputs": [
    {
     "data": {
      "text/plain": [
       "(array([  176.,   340.,   753.,  1325.,  1496.,  1679.,  1776.,  2024.,\n",
       "         3091.,  3076.]),\n",
       " array([ 1955. ,  1961.2,  1967.4,  1973.6,  1979.8,  1986. ,  1992.2,\n",
       "         1998.4,  2004.6,  2010.8,  2017. ]),\n",
       " <a list of 10 Patch objects>)"
      ]
     },
     "execution_count": 359,
     "metadata": {},
     "output_type": "execute_result"
    },
    {
     "data": {
      "image/png": "[encoded data removed]",
      "text/plain": [
       "<matplotlib.figure.Figure at 0x15c25b860>"
      ]
     },
     "metadata": {},
     "output_type": "display_data"
    }
   ],
   "source": [
    "plt.hist(df.approvalfy.dropna().astype(int))"
   ]
  },
  {
   "cell_type": "code",
   "execution_count": 382,
   "metadata": {
    "collapsed": false
   },
   "outputs": [
    {
     "data": {
      "text/plain": [
       "IDA      6891\n",
       "IBRD     6761\n",
       "OTHER    3062\n",
       "Name: projectfinancialtype, dtype: int64"
      ]
     },
     "execution_count": 382,
     "metadata": {},
     "output_type": "execute_result"
    }
   ],
   "source": [
    "df.projectfinancialtype.value_counts()"
   ]
  }
 ],
 "metadata": {
  "kernelspec": {
   "display_name": "Python 3",
   "language": "python",
   "name": "python3"
  },
  "language_info": {
   "codemirror_mode": {
    "name": "ipython",
    "version": 3
   },
   "file_extension": ".py",
   "mimetype": "text/x-python",
   "name": "python",
   "nbconvert_exporter": "python",
   "pygments_lexer": "ipython3",
   "version": "3.5.1"
  }
 },
 "nbformat": 4,
 "nbformat_minor": 0
}
